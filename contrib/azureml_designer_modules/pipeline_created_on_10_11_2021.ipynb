{
  "metadata": {},
  "nbformat": 4,
  "nbformat_minor": 2,
  "cells": [
    {
      "cell_type": "code",
      "execution_count": null,
      "metadata": {},
      "outputs": [],
      "source": [
        "# ------------------------------------------------------------------------------\n",
        "# This is generated from https://ml.azure.com/visualinterface/authoring/Normal/7ecd84fe-094b-4b45-866e-1b321be92f20?wsid=/subscriptions/edf507a2-6235-46c5-b560-fd463ba2e771/resourcegroups/devops-test-18681/workspaces/liu2s3v2uksioworkspace&tid=72f988bf-86f1-41af-91ab-2d7cd011db47\n",
        "# To run this code, please install SDK by this command:\n",
        "# !pip install \"azure-ml-component[notebooks]\" --extra-index-url https://azuremlsdktestpypi.azureedge.net/modulesdkpreview --upgrade\n",
        "# More detailed guide to set up your environment: https://github.com/Azure/DesignerPrivatePreviewFeatures/blob/master/azure-ml-components/samples/setup-environment.ipynb\n",
        "# ------------------------------------------------------------------------------"
      ]
    },
    {
      "cell_type": "code",
      "execution_count": null,
      "metadata": {},
      "outputs": [],
      "source": [
        "from azureml.core import Workspace\n",
        "from azureml.core import Datastore\n",
        "from azure.ml.component import Pipeline, Component, dsl"
      ]
    },
    {
      "cell_type": "code",
      "execution_count": null,
      "metadata": {},
      "outputs": [],
      "source": [
        "# configure aml workspace\n",
        "ws = Workspace.from_config()"
      ]
    },
    {
      "cell_type": "code",
      "execution_count": null,
      "metadata": {},
      "outputs": [],
      "source": [
        "# get components\n",
        "microsoft_com_cat_stratified_splitter_func = Component.load(ws, name='microsoft.com.cat.stratified_splitter', version='1.1.1')\n",
        "microsoft_com_cat_sar_training_func = Component.load(ws, name='microsoft.com.cat.sar_training', version='1.1.1')\n",
        "microsoft_com_cat_ndcg_func = Component.load(ws, name='microsoft.com.cat.ndcg', version='1.1.1')\n",
        "microsoft_com_cat_sar_scoring_func = Component.load(ws, name='microsoft.com.cat.sar_scoring', version='1.1.1')"
      ]
    },
    {
      "cell_type": "code",
      "execution_count": null,
      "metadata": {},
      "outputs": [],
      "source": [
        "# get dataset\n",
        "from azureml.core import Dataset\n",
        "if 'movie_ratings' not in ws.datasets:\n",
        "    datastore = Datastore.get(ws, 'azureml_globaldatasets')\n",
        "    dataset = Dataset.File.from_files((datastore, 'GenericCSV/Movie_Ratings'))\n",
        "    dataset.register(workspace=ws, name='movie_ratings', description='Movie Ratings')\n",
        "movie_ratings = ws.datasets['movie_ratings']"
      ]
    },
    {
      "cell_type": "code",
      "execution_count": null,
      "metadata": {},
      "outputs": [],
      "source": [
        "# define pipeline\n",
        "@dsl.pipeline(name='Pipeline-Created-on-10-11-2021', description='Pipeline created on 20211011', default_datastore='workspaceblobstore')\n",
        "def generated_pipeline():\n",
        "    microsoft_com_cat_stratified_splitter_0 = microsoft_com_cat_stratified_splitter_func(\n",
        "        input_path=movie_ratings,\n",
        "        ratio=0.75,\n",
        "        user_column='UserId',\n",
        "        item_column='MovieId',\n",
        "        seed=42)\n",
        "    microsoft_com_cat_stratified_splitter_0.runsettings.resource_layout.configure(node_count=1)\n",
        "    microsoft_com_cat_stratified_splitter_0.runsettings.docker_configuration.configure(use_docker=True, shared_volumes=True, shm_size='2g', arguments='[]')\n",
        "    \n",
        "    microsoft_com_cat_sar_training_0 = microsoft_com_cat_sar_training_func(\n",
        "        input_path=microsoft_com_cat_stratified_splitter_0.outputs.output_train_data,\n",
        "        user_column='UserId',\n",
        "        item_column='MovieId',\n",
        "        rating_column='Rating',\n",
        "        timestamp_column='Timestamp',\n",
        "        normalize=False,\n",
        "        time_decay=False)\n",
        "    microsoft_com_cat_sar_training_0.runsettings.resource_layout.configure(node_count=1)\n",
        "    microsoft_com_cat_sar_training_0.runsettings.docker_configuration.configure(use_docker=True, shared_volumes=True, shm_size='2g', arguments='[]')\n",
        "    \n",
        "    microsoft_com_cat_sar_scoring_0 = microsoft_com_cat_sar_scoring_func(\n",
        "        trained_model=microsoft_com_cat_sar_training_0.outputs.output_model,\n",
        "        dataset_to_score=microsoft_com_cat_stratified_splitter_0.outputs.output_test_data,\n",
        "        score_type='Item recommendation',\n",
        "        items_to_predict='Items in score set',\n",
        "        ranking_metric='Rating',\n",
        "        remove_seen_items=False,\n",
        "        top_k=10,\n",
        "        sort_top_k=True,\n",
        "        normalize=False)\n",
        "    microsoft_com_cat_sar_scoring_0.runsettings.resource_layout.configure(node_count=1)\n",
        "    microsoft_com_cat_sar_scoring_0.runsettings.docker_configuration.configure(use_docker=True, shared_volumes=True, shm_size='2g', arguments='[]')\n",
        "    \n",
        "    microsoft_com_cat_ndcg_0 = microsoft_com_cat_ndcg_func(\n",
        "        rating_true=microsoft_com_cat_stratified_splitter_0.outputs.output_test_data,\n",
        "        rating_pred=microsoft_com_cat_sar_scoring_0.outputs.score_result,\n",
        "        user_column='UserId',\n",
        "        item_column='MovieId',\n",
        "        rating_column='Rating',\n",
        "        prediction_column='prediction',\n",
        "        relevancy_method='top_k',\n",
        "        top_k=10,\n",
        "        threshold=10.0)\n",
        "    microsoft_com_cat_ndcg_0.runsettings.resource_layout.configure(node_count=1)\n",
        "    microsoft_com_cat_ndcg_0.runsettings.docker_configuration.configure(use_docker=True, shared_volumes=True, shm_size='2g', arguments='[]')"
      ]
    },
    {
      "cell_type": "code",
      "execution_count": null,
      "metadata": {},
      "outputs": [],
      "source": [
        "# create a pipeline\n",
        "pipeline = generated_pipeline()"
      ]
    },
    {
      "cell_type": "code",
      "execution_count": null,
      "metadata": {},
      "outputs": [],
      "source": [
        "# validate pipeline and visualize the graph\n",
        "pipeline.validate()"
      ]
    },
    {
      "cell_type": "code",
      "execution_count": null,
      "metadata": {},
      "outputs": [],
      "source": [
        "# submit a pipeline run\n",
        "# pipeline.submit(experiment_name='sample-experiment-name').wait_for_completion()"
      ]
    }
  ]
}